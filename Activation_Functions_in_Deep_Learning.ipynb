{
  "cells": [
    {
      "cell_type": "markdown",
      "metadata": {
        "id": "view-in-github",
        "colab_type": "text"
      },
      "source": [
        "<a href=\"https://colab.research.google.com/github/shahjamanbadhon/Deep-Learning/blob/main/Activation_Functions_in_Deep_Learning.ipynb\" target=\"_parent\"><img src=\"https://colab.research.google.com/assets/colab-badge.svg\" alt=\"Open In Colab\"/></a>"
      ]
    },
    {
      "cell_type": "code",
      "execution_count": 3,
      "id": "3caf694a",
      "metadata": {
        "id": "3caf694a"
      },
      "outputs": [],
      "source": [
        "# !pip install numpy"
      ]
    },
    {
      "cell_type": "code",
      "execution_count": 4,
      "id": "55ac3bc2",
      "metadata": {
        "id": "55ac3bc2"
      },
      "outputs": [],
      "source": [
        "import numpy as np"
      ]
    },
    {
      "cell_type": "markdown",
      "id": "c0d809a6",
      "metadata": {
        "id": "c0d809a6"
      },
      "source": [
        "# 1. ReLU - Rectified Linear Unit (Hidden Layer)"
      ]
    },
    {
      "cell_type": "code",
      "execution_count": 5,
      "id": "47f174a7",
      "metadata": {
        "id": "47f174a7"
      },
      "outputs": [],
      "source": [
        "def relu(x):\n",
        "    return np.maximum(0, x)\n"
      ]
    },
    {
      "cell_type": "code",
      "execution_count": 6,
      "id": "04873e16",
      "metadata": {
        "colab": {
          "base_uri": "https://localhost:8080/"
        },
        "id": "04873e16",
        "outputId": "ca33476a-2d26-4a2b-f13b-51782f62a8e1"
      },
      "outputs": [
        {
          "output_type": "execute_result",
          "data": {
            "text/plain": [
              "np.int64(10)"
            ]
          },
          "metadata": {},
          "execution_count": 6
        }
      ],
      "source": [
        "relu(10)"
      ]
    },
    {
      "cell_type": "code",
      "execution_count": 7,
      "id": "81560793",
      "metadata": {
        "colab": {
          "base_uri": "https://localhost:8080/"
        },
        "id": "81560793",
        "outputId": "b4f7947e-45f0-45ba-ffb2-fb6f31c2b39d"
      },
      "outputs": [
        {
          "output_type": "execute_result",
          "data": {
            "text/plain": [
              "np.int64(0)"
            ]
          },
          "metadata": {},
          "execution_count": 7
        }
      ],
      "source": [
        "relu(-10)"
      ]
    },
    {
      "cell_type": "code",
      "execution_count": 8,
      "id": "e914d442",
      "metadata": {
        "colab": {
          "base_uri": "https://localhost:8080/"
        },
        "id": "e914d442",
        "outputId": "a7cb59d7-2fe2-4e58-e3a2-303f88e98735"
      },
      "outputs": [
        {
          "output_type": "execute_result",
          "data": {
            "text/plain": [
              "array([0, 0, 1, 2])"
            ]
          },
          "metadata": {},
          "execution_count": 8
        }
      ],
      "source": [
        "relu(np.array([-1, 0, 1, 2]))"
      ]
    },
    {
      "cell_type": "markdown",
      "id": "e6ea50d7",
      "metadata": {
        "id": "e6ea50d7"
      },
      "source": [
        "# 2. Leaky ReLU (Hidden Layer)"
      ]
    },
    {
      "cell_type": "markdown",
      "id": "a19d2b17",
      "metadata": {
        "id": "a19d2b17"
      },
      "source": [
        "Leaky ReLU allows a small, positive gradient when the unit is not active."
      ]
    },
    {
      "cell_type": "code",
      "execution_count": 9,
      "id": "0a2a2eb6",
      "metadata": {
        "id": "0a2a2eb6"
      },
      "outputs": [],
      "source": [
        "def leaky_relu(x, alpha=0.01):\n",
        "    return np.where(x > 0, x, x * alpha)\n"
      ]
    },
    {
      "cell_type": "code",
      "execution_count": 10,
      "id": "c4212806",
      "metadata": {
        "colab": {
          "base_uri": "https://localhost:8080/"
        },
        "id": "c4212806",
        "outputId": "ca77d64a-0dbe-496e-8fc7-5ccd7fbfc10b"
      },
      "outputs": [
        {
          "output_type": "execute_result",
          "data": {
            "text/plain": [
              "array(-0.01)"
            ]
          },
          "metadata": {},
          "execution_count": 10
        }
      ],
      "source": [
        "leaky_relu(-1)"
      ]
    },
    {
      "cell_type": "code",
      "execution_count": 11,
      "id": "d243f562",
      "metadata": {
        "colab": {
          "base_uri": "https://localhost:8080/"
        },
        "id": "d243f562",
        "outputId": "c4b5bea0-6b3c-4aed-c290-6c37bbc36510"
      },
      "outputs": [
        {
          "output_type": "execute_result",
          "data": {
            "text/plain": [
              "array([-0.01,  0.  ,  1.  ,  2.  ])"
            ]
          },
          "metadata": {},
          "execution_count": 11
        }
      ],
      "source": [
        "leaky_relu(np.array([-1, 0, 1, 2]))"
      ]
    },
    {
      "cell_type": "markdown",
      "id": "6393bc6a",
      "metadata": {
        "id": "6393bc6a"
      },
      "source": [
        "# 3. ELU - Exponential Linear Unit (Hidden Layer)"
      ]
    },
    {
      "cell_type": "markdown",
      "id": "cd1277d3",
      "metadata": {
        "id": "cd1277d3"
      },
      "source": [
        "ELU has a small slope for negative values, unlike ReLU, to avoid the dying ReLU problem."
      ]
    },
    {
      "cell_type": "code",
      "execution_count": 12,
      "id": "ae19a635",
      "metadata": {
        "id": "ae19a635"
      },
      "outputs": [],
      "source": [
        "def elu(x, alpha=1.0):\n",
        "    return np.where(x > 0, x, alpha * (np.exp(x) - 1))"
      ]
    },
    {
      "cell_type": "code",
      "execution_count": 13,
      "id": "8120ec43",
      "metadata": {
        "colab": {
          "base_uri": "https://localhost:8080/"
        },
        "id": "8120ec43",
        "outputId": "c7c455e5-a7cf-4c43-d4e9-d0c54275edfe"
      },
      "outputs": [
        {
          "output_type": "execute_result",
          "data": {
            "text/plain": [
              "array(5.)"
            ]
          },
          "metadata": {},
          "execution_count": 13
        }
      ],
      "source": [
        "elu(5)"
      ]
    },
    {
      "cell_type": "code",
      "execution_count": 14,
      "id": "dc0d1b39",
      "metadata": {
        "colab": {
          "base_uri": "https://localhost:8080/"
        },
        "id": "dc0d1b39",
        "outputId": "24d335b9-e2d1-47cb-84fa-9742a7643edb"
      },
      "outputs": [
        {
          "output_type": "execute_result",
          "data": {
            "text/plain": [
              "array([-0.63212056,  0.        ,  1.        ,  2.        ])"
            ]
          },
          "metadata": {},
          "execution_count": 14
        }
      ],
      "source": [
        "elu(np.array([-1, 0, 1, 2]))"
      ]
    },
    {
      "cell_type": "markdown",
      "id": "02a66821",
      "metadata": {
        "id": "02a66821"
      },
      "source": [
        "# 4. Sigmoid (Output Layer & Binaryclass Problem)"
      ]
    },
    {
      "cell_type": "code",
      "execution_count": 15,
      "id": "037e9cb3",
      "metadata": {
        "id": "037e9cb3"
      },
      "outputs": [],
      "source": [
        "def sigmoid(x):\n",
        "    return 1 / (1 + np.exp(-x))\n"
      ]
    },
    {
      "cell_type": "code",
      "execution_count": 16,
      "id": "408f0b7f",
      "metadata": {
        "colab": {
          "base_uri": "https://localhost:8080/"
        },
        "id": "408f0b7f",
        "outputId": "6f8a0269-1f46-4951-bb44-6e9e5924e649"
      },
      "outputs": [
        {
          "output_type": "execute_result",
          "data": {
            "text/plain": [
              "array([0.26894142, 0.5       , 0.73105858, 0.88079708])"
            ]
          },
          "metadata": {},
          "execution_count": 16
        }
      ],
      "source": [
        "sigmoid(np.array([-1, 0, 1, 2]))"
      ]
    },
    {
      "cell_type": "markdown",
      "id": "d6afd65e",
      "metadata": {
        "id": "d6afd65e"
      },
      "source": [
        "# 5. Softmax (Output Layer & Multiclass Problem)"
      ]
    },
    {
      "cell_type": "markdown",
      "id": "6d7f80ba",
      "metadata": {
        "id": "6d7f80ba"
      },
      "source": [
        "Softmax converts a real vector to a vector of categorical probabilities."
      ]
    },
    {
      "cell_type": "code",
      "execution_count": 17,
      "id": "1bd42072",
      "metadata": {
        "id": "1bd42072"
      },
      "outputs": [],
      "source": [
        "def softmax(x):\n",
        "    e_x = np.exp(x - np.max(x))\n",
        "    return e_x / e_x.sum(axis=0)\n"
      ]
    },
    {
      "cell_type": "code",
      "execution_count": 18,
      "id": "136ead8b",
      "metadata": {
        "colab": {
          "base_uri": "https://localhost:8080/"
        },
        "id": "136ead8b",
        "outputId": "78973566-313d-4c48-82c6-5a35a9e92e85"
      },
      "outputs": [
        {
          "output_type": "execute_result",
          "data": {
            "text/plain": [
              "array([0.0320586 , 0.08714432, 0.23688282, 0.64391426])"
            ]
          },
          "metadata": {},
          "execution_count": 18
        }
      ],
      "source": [
        "proba = softmax(np.array([-1, 0, 1, 2]))\n",
        "proba"
      ]
    },
    {
      "cell_type": "code",
      "execution_count": 19,
      "id": "2388c5b0",
      "metadata": {
        "colab": {
          "base_uri": "https://localhost:8080/"
        },
        "id": "2388c5b0",
        "outputId": "34bef784-d63a-439f-a6d6-75e93282b718"
      },
      "outputs": [
        {
          "output_type": "execute_result",
          "data": {
            "text/plain": [
              "np.float64(1.0)"
            ]
          },
          "metadata": {},
          "execution_count": 19
        }
      ],
      "source": [
        "sum(proba)"
      ]
    },
    {
      "cell_type": "markdown",
      "id": "b7977ddf",
      "metadata": {
        "id": "b7977ddf"
      },
      "source": [
        "# 6. Swish (Hidden Layer)"
      ]
    },
    {
      "cell_type": "markdown",
      "id": "31667369",
      "metadata": {
        "id": "31667369"
      },
      "source": [
        "Swish is a self-gated activation function."
      ]
    },
    {
      "cell_type": "code",
      "execution_count": 20,
      "id": "94bcf6dc",
      "metadata": {
        "id": "94bcf6dc"
      },
      "outputs": [],
      "source": [
        "def swish(x, beta=1.0):\n",
        "    return x * sigmoid(beta * x)\n"
      ]
    },
    {
      "cell_type": "code",
      "execution_count": 21,
      "id": "aa3867fb",
      "metadata": {
        "colab": {
          "base_uri": "https://localhost:8080/"
        },
        "id": "aa3867fb",
        "outputId": "18db7f5a-9e0a-43a1-9531-4acbb758eee7"
      },
      "outputs": [
        {
          "output_type": "execute_result",
          "data": {
            "text/plain": [
              "np.float64(4.966535745378576)"
            ]
          },
          "metadata": {},
          "execution_count": 21
        }
      ],
      "source": [
        "swish(5)"
      ]
    },
    {
      "cell_type": "code",
      "execution_count": 22,
      "id": "ac227b4a",
      "metadata": {
        "colab": {
          "base_uri": "https://localhost:8080/"
        },
        "id": "ac227b4a",
        "outputId": "637d3a80-b508-418f-a0c2-6f53ea95a076"
      },
      "outputs": [
        {
          "output_type": "execute_result",
          "data": {
            "text/plain": [
              "array([-0.26894142,  0.        ,  0.73105858,  1.76159416])"
            ]
          },
          "metadata": {},
          "execution_count": 22
        }
      ],
      "source": [
        "swish(np.array([-1, 0, 1, 2]))"
      ]
    },
    {
      "cell_type": "markdown",
      "id": "38e55866",
      "metadata": {
        "id": "38e55866"
      },
      "source": [
        "# 7. Linear (Output Layer)"
      ]
    },
    {
      "cell_type": "markdown",
      "id": "4049385f",
      "metadata": {
        "id": "4049385f"
      },
      "source": [
        "Linear or identity activation function returns the input directly."
      ]
    },
    {
      "cell_type": "code",
      "execution_count": 23,
      "id": "8f680b33",
      "metadata": {
        "id": "8f680b33"
      },
      "outputs": [],
      "source": [
        "def linear(x):\n",
        "    return x"
      ]
    },
    {
      "cell_type": "code",
      "execution_count": 24,
      "id": "c6abc3a2",
      "metadata": {
        "colab": {
          "base_uri": "https://localhost:8080/"
        },
        "id": "c6abc3a2",
        "outputId": "3cb46cd9-9310-44cd-da91-94dc5976ca16"
      },
      "outputs": [
        {
          "output_type": "execute_result",
          "data": {
            "text/plain": [
              "10"
            ]
          },
          "metadata": {},
          "execution_count": 24
        }
      ],
      "source": [
        "linear(10)"
      ]
    },
    {
      "cell_type": "markdown",
      "id": "ef852cf7",
      "metadata": {
        "id": "ef852cf7"
      },
      "source": [
        "# 8. Tanh (Hyperbolic Tangent)"
      ]
    },
    {
      "cell_type": "code",
      "execution_count": 25,
      "id": "26e87100",
      "metadata": {
        "id": "26e87100"
      },
      "outputs": [],
      "source": [
        "def tanh(x):\n",
        "    return np.tanh(x)"
      ]
    },
    {
      "cell_type": "code",
      "execution_count": 26,
      "id": "e3ce4a70",
      "metadata": {
        "colab": {
          "base_uri": "https://localhost:8080/"
        },
        "id": "e3ce4a70",
        "outputId": "06e0a2f0-11a8-4359-9a87-22dcdad5963e"
      },
      "outputs": [
        {
          "output_type": "execute_result",
          "data": {
            "text/plain": [
              "np.float64(0.9999999958776927)"
            ]
          },
          "metadata": {},
          "execution_count": 26
        }
      ],
      "source": [
        "tanh(10)"
      ]
    },
    {
      "cell_type": "code",
      "execution_count": 27,
      "id": "dbd65fac",
      "metadata": {
        "colab": {
          "base_uri": "https://localhost:8080/"
        },
        "id": "dbd65fac",
        "outputId": "720f7dcc-0daf-4c1e-8581-2199df9b7c99"
      },
      "outputs": [
        {
          "output_type": "execute_result",
          "data": {
            "text/plain": [
              "array([-0.76159416,  0.        ,  0.76159416,  0.96402758])"
            ]
          },
          "metadata": {},
          "execution_count": 27
        }
      ],
      "source": [
        "tanh([-1, 0, 1, 2])"
      ]
    },
    {
      "cell_type": "code",
      "execution_count": 28,
      "id": "ae2dc284",
      "metadata": {
        "id": "ae2dc284"
      },
      "outputs": [],
      "source": [
        "import math"
      ]
    },
    {
      "cell_type": "code",
      "execution_count": 29,
      "id": "8560c99c",
      "metadata": {
        "id": "8560c99c"
      },
      "outputs": [],
      "source": [
        "def tanh(x):\n",
        "    result = (math.exp(x) - math.exp(-x)) / (math.exp(x) + math.exp(-x))\n",
        "    return result"
      ]
    },
    {
      "cell_type": "code",
      "execution_count": 30,
      "id": "48ef9ce5",
      "metadata": {
        "colab": {
          "base_uri": "https://localhost:8080/"
        },
        "id": "48ef9ce5",
        "outputId": "d0c4fa2a-b78d-4f97-d73f-953e1c02e195"
      },
      "outputs": [
        {
          "output_type": "execute_result",
          "data": {
            "text/plain": [
              "-0.7615941559557649"
            ]
          },
          "metadata": {},
          "execution_count": 30
        }
      ],
      "source": [
        "tanh(-1)"
      ]
    }
  ],
  "metadata": {
    "kernelspec": {
      "display_name": "Python 3 (ipykernel)",
      "language": "python",
      "name": "python3"
    },
    "language_info": {
      "codemirror_mode": {
        "name": "ipython",
        "version": 3
      },
      "file_extension": ".py",
      "mimetype": "text/x-python",
      "name": "python",
      "nbconvert_exporter": "python",
      "pygments_lexer": "ipython3",
      "version": "3.9.13"
    },
    "colab": {
      "provenance": [],
      "include_colab_link": true
    }
  },
  "nbformat": 4,
  "nbformat_minor": 5
}
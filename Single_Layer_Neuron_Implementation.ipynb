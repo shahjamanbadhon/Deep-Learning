{
  "cells": [
    {
      "cell_type": "markdown",
      "metadata": {
        "id": "view-in-github",
        "colab_type": "text"
      },
      "source": [
        "<a href=\"https://colab.research.google.com/github/shahjamanbadhon/Deep-Learning/blob/main/Single_Layer_Neuron_Implementation.ipynb\" target=\"_parent\"><img src=\"https://colab.research.google.com/assets/colab-badge.svg\" alt=\"Open In Colab\"/></a>"
      ]
    },
    {
      "cell_type": "markdown",
      "id": "4adce7a4",
      "metadata": {
        "id": "4adce7a4"
      },
      "source": [
        "# Single Neuron Implementation\n",
        "\n",
        "This notebook demonstrates the implementation of a single neuron. The neuron will take weighted inputs, add a bias, and apply a sigmoid activation function to produce an output.\n",
        "\n",
        "## Neuron Implementation\n",
        "\n",
        "We will define the `sigmoid` function and the `feedforward` function to calculate the output of the neuron.\n"
      ]
    },
    {
      "cell_type": "code",
      "execution_count": 1,
      "id": "f6fc7922",
      "metadata": {
        "id": "f6fc7922"
      },
      "outputs": [],
      "source": [
        "import math"
      ]
    },
    {
      "cell_type": "markdown",
      "id": "87a46f7e",
      "metadata": {
        "id": "87a46f7e"
      },
      "source": [
        "Activation Function: Computes the sigmoid activation function."
      ]
    },
    {
      "cell_type": "code",
      "execution_count": 2,
      "id": "890d844a",
      "metadata": {
        "id": "890d844a"
      },
      "outputs": [],
      "source": [
        "def sigmoid(z):\n",
        "    return 1 / (1 + math.exp(-z))"
      ]
    },
    {
      "cell_type": "markdown",
      "id": "3cc9ae2c",
      "metadata": {
        "id": "3cc9ae2c"
      },
      "source": [
        "Feedforward Network:\n",
        "1. Calculates the weighted sum of inputs plus the bias.\n",
        "2. Applies the sigmoid activation function to the total."
      ]
    },
    {
      "cell_type": "code",
      "execution_count": 3,
      "id": "694118b2",
      "metadata": {
        "id": "694118b2"
      },
      "outputs": [],
      "source": [
        "def feedforward(weights, bias, inputs):\n",
        "\n",
        "    total = sum(w * x for w, x in zip(weights, inputs)) + bias\n",
        "\n",
        "    return sigmoid(total)"
      ]
    },
    {
      "cell_type": "markdown",
      "id": "42a3aadf",
      "metadata": {
        "id": "42a3aadf"
      },
      "source": [
        "classify(): Converts the sigmoid output to a class label based on a threshold (default is 0.5)."
      ]
    },
    {
      "cell_type": "code",
      "execution_count": 4,
      "id": "d61c0319",
      "metadata": {
        "id": "d61c0319"
      },
      "outputs": [],
      "source": [
        "def classify(output, threshold=0.5):\n",
        "    return 1 if output >= threshold else 0"
      ]
    },
    {
      "cell_type": "markdown",
      "id": "a0914ac4",
      "metadata": {
        "id": "a0914ac4"
      },
      "source": [
        "We will define the weights, bias, and inputs, and then calculate the output of the neuron using the `feedforward` function.\n"
      ]
    },
    {
      "cell_type": "code",
      "execution_count": 5,
      "id": "8f7949b9",
      "metadata": {
        "colab": {
          "base_uri": "https://localhost:8080/"
        },
        "id": "8f7949b9",
        "outputId": "475461c9-8acd-4bbf-d0fc-0fec1edbab3b"
      },
      "outputs": [
        {
          "output_type": "stream",
          "name": "stdout",
          "text": [
            "Output of the neuron for inputs [2, 3] is: 0.9706877692486436\n"
          ]
        }
      ],
      "source": [
        "weights = [0, 1]\n",
        "bias = 0.5\n",
        "\n",
        "inputs = [2, 3]\n",
        "\n",
        "output = feedforward(weights, bias, inputs)\n",
        "print(f\"Output of the neuron for inputs {inputs} is: {output}\")"
      ]
    },
    {
      "cell_type": "code",
      "execution_count": 6,
      "id": "1736516e",
      "metadata": {
        "colab": {
          "base_uri": "https://localhost:8080/"
        },
        "id": "1736516e",
        "outputId": "6fdb765a-859a-40bc-a6bf-d6d412cc4453"
      },
      "outputs": [
        {
          "output_type": "stream",
          "name": "stdout",
          "text": [
            "Class label for the output is: 1\n"
          ]
        }
      ],
      "source": [
        "class_label = classify(output)\n",
        "print(f\"Class label for the output is: {class_label}\")"
      ]
    },
    {
      "cell_type": "code",
      "execution_count": 6,
      "id": "c1f23be1",
      "metadata": {
        "id": "c1f23be1"
      },
      "outputs": [],
      "source": []
    }
  ],
  "metadata": {
    "kernelspec": {
      "display_name": "Python 3 (ipykernel)",
      "language": "python",
      "name": "python3"
    },
    "language_info": {
      "codemirror_mode": {
        "name": "ipython",
        "version": 3
      },
      "file_extension": ".py",
      "mimetype": "text/x-python",
      "name": "python",
      "nbconvert_exporter": "python",
      "pygments_lexer": "ipython3",
      "version": "3.9.13"
    },
    "colab": {
      "provenance": [],
      "include_colab_link": true
    }
  },
  "nbformat": 4,
  "nbformat_minor": 5
}